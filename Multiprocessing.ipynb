{
 "cells": [
  {
   "cell_type": "code",
   "execution_count": 1,
   "id": "1918a664-648f-45b5-8b20-c4e55d50c36c",
   "metadata": {},
   "outputs": [],
   "source": [
    "#Question 1\n",
    "#Ans\n",
    "#Multiprocessing: - \n",
    "#Multiprocessing is a programming paradigm that involves running multiple processes concurrently to achieve parallelism. \n",
    "#In multiprocessing, each process is a separate instance of the program that runs independently, has its own memory space,\n",
    "#and can execute tasks concurrently on separate CPU cores. This allows programs to take full advantage of modern multicore \n",
    "#processors and perform multiple tasks simultaneously, enhancing performance and throughput.\n",
    "#Useful: - \n",
    "#Multiprocessing is useful for several reasons, particularly in situations where tasks can be executed concurrently and \n",
    "#there's a need to take advantage of modern multicore processors."
   ]
  },
  {
   "cell_type": "code",
   "execution_count": 2,
   "id": "0cd57472-9346-457a-a9b1-7cdc7157a80c",
   "metadata": {},
   "outputs": [],
   "source": [
    "#Question 2\n",
    "#Ans\n",
    "#Multiprocessing and multithreading are both techniques used to achieve concurrent execution in programs, \n",
    "#but they differ in how they manage and utilize resources to achieve parallelism.\n",
    "#MULTITHREADING VS MULTIPROCESSING:\n",
    "#<------------------------------------------>\n",
    "#1.  Processes vs. Threads:\n",
    "#Multiprocessing: \n",
    "#In multiprocessing, separate processes are created, each with its own memory space. Processes do not share memory by default, \n",
    "#which offers better isolation and reduces the chances of data corruption. Processes run independently and can achieve true parallelism by running \n",
    "#on separate CPU cores.\n",
    "#Multithreading:\n",
    "#In multithreading, multiple threads within a single process share the same memory space. Threads are lighter-weight than processes \n",
    "#and are managed by the operating system's thread scheduler. However, due to the Global Interpreter Lock (GIL) in Python and similar limitations \n",
    "#in other languages, true parallelism might not be achieved for CPU-bound tasks.\n",
    "#<------------------------------------------>\n",
    "#2.Resource Allocation:\n",
    "#Multiprocessing: \n",
    "#Each process has its own resources, including memory space and variables. Resource allocation is not a concern, as each process operates independently.\n",
    "#Multithreading: \n",
    "#Threads within a process share the same memory space and variables. Resource sharing requires proper synchronization mechanisms to prevent race \n",
    "#conditions and data corruption.\n",
    "#<------------------------------------------>\n",
    "#3. Isolation:\n",
    "#Multiprocessing: \n",
    "#Processes are isolated from each other, which provides better protection against unintended side effects. However, \n",
    "#communication between processes requires inter-process communication (IPC) mechanisms.\n",
    "#Multithreading: \n",
    "#Threads within the same process share memory and resources. While this can lead to easier communication, it also requires careful \n",
    "#synchronization to ensure data consistency.\n",
    "#<------------------------------------------>\n",
    "#4. GIL (Global Interpreter Lock):\n",
    "#Multiprocessing: \n",
    "#Processes run in separate memory spaces and are not affected by the GIL. This allows for true parallelism in Python.\n",
    "#Multithreading: \n",
    "#In Python, the GIL limits the ability of threads to execute Python bytecode in parallel, affecting performance for CPU-bound tasks. \n",
    "#Multithreading is more suitable for I/O-bound tasks in Python.\n",
    "#<------------------------------------------>\n",
    "#5.  Performance:\n",
    "#Multiprocessing: \n",
    "#Multiprocessing is more suitable for CPU-bound tasks that require significant computational power and can achieve true parallelism.\n",
    "#Multithreading:\n",
    "#Multithreading is effective for I/O-bound tasks that spend a lot of time waiting for external resources like I/O operations to complete.\n",
    "#<------------------------------------------>\n",
    "#6. Debugging:\n",
    "#Multiprocessing: \n",
    "#Debugging can be easier in multiprocessing since processes operate in separate memory spaces, reducing the chances of issues like race conditions.\n",
    "#Multithreading:\n",
    "#Debugging multithreaded code can be more complex due to issues like race conditions and data sharing.\n"
   ]
  },
  {
   "cell_type": "code",
   "execution_count": 3,
   "id": "c67707a6-5e49-4b9f-af8d-5a9c37c64536",
   "metadata": {},
   "outputs": [
    {
     "name": "stdout",
     "output_type": "stream",
     "text": [
      "I am in multiprocessing.\n",
      "I am in test function.\n"
     ]
    }
   ],
   "source": [
    "#Question 3\n",
    "#Ans\n",
    "import multiprocessing\n",
    "\n",
    "def test():\n",
    "    print(\"I am in test function.\")\n",
    "    \n",
    "if __name__== '__main__':\n",
    "    process = multiprocessing.Process(target = test)\n",
    "    print(\"I am in multiprocessing.\")\n",
    "    process.start()\n",
    "    process.join()"
   ]
  },
  {
   "cell_type": "code",
   "execution_count": 9,
   "id": "444fb71b-3006-46a9-abea-05bef15f7e27",
   "metadata": {},
   "outputs": [],
   "source": [
    "#Question 4\n",
    "#ans:\n",
    "#pool: - It will give us data in bulk. the multiprocessing.Pool class, is a high-level interface for creating and managing a pool of worker processes.\n",
    "#It's part of the multiprocessing module and provides a convenient way to distribute tasks across multiple processes for parallel execution.\n",
    "#Use: - \n",
    "#Simplified Management, Automatic Load Balancing, Resource Management, Concurrency etc."
   ]
  },
  {
   "cell_type": "code",
   "execution_count": 8,
   "id": "476f6220-e070-473e-bd60-d2eeb9dc07de",
   "metadata": {},
   "outputs": [
    {
     "name": "stdout",
     "output_type": "stream",
     "text": [
      "[1, 4, 9, 16, 25]\n"
     ]
    }
   ],
   "source": [
    "#Question 5\n",
    "#Ans\n",
    "def square(n):\n",
    "    return n**2\n",
    "\n",
    "if __name__=='__main__':\n",
    "    with multiprocessing.Pool(processes=4) as pool:\n",
    "        out = pool.map(square,[1,2,3,4,5])\n",
    "        print(out)"
   ]
  },
  {
   "cell_type": "code",
   "execution_count": 10,
   "id": "c8222d7b-ab9f-4a23-b830-2be254e610bc",
   "metadata": {},
   "outputs": [],
   "source": [
    "#It will devide in 4 process and exceute them in parallel."
   ]
  },
  {
   "cell_type": "code",
   "execution_count": 13,
   "id": "10a545a0-eef7-4ce9-beef-063272329bc5",
   "metadata": {},
   "outputs": [
    {
     "name": "stdout",
     "output_type": "stream",
     "text": [
      "Process Process-19: 1\n",
      "Process Process-20: 2\n",
      "Process Process-21: 3\n",
      "Process Process-22: 4\n"
     ]
    }
   ],
   "source": [
    "#Question 6\n",
    "#Ans\n",
    "import multiprocessing\n",
    "\n",
    "def print_numbers(number):\n",
    "    print(f\"Process {multiprocessing.current_process().name}: {number}\")\n",
    "\n",
    "if __name__=='__main__':\n",
    "    list = [1,2,3,4]\n",
    "    processes = []\n",
    "    for i in list:\n",
    "        process = multiprocessing.Process(target=print_numbers,args=(i,))\n",
    "        process.start()\n",
    "        processes.append(process)\n",
    "    \n",
    "    for p in processes:\n",
    "        p.join()"
   ]
  },
  {
   "cell_type": "code",
   "execution_count": null,
   "id": "eca3643b-785b-4b95-ae2a-2e536c359ff4",
   "metadata": {},
   "outputs": [],
   "source": []
  }
 ],
 "metadata": {
  "kernelspec": {
   "display_name": "Python 3 (ipykernel)",
   "language": "python",
   "name": "python3"
  },
  "language_info": {
   "codemirror_mode": {
    "name": "ipython",
    "version": 3
   },
   "file_extension": ".py",
   "mimetype": "text/x-python",
   "name": "python",
   "nbconvert_exporter": "python",
   "pygments_lexer": "ipython3",
   "version": "3.10.8"
  }
 },
 "nbformat": 4,
 "nbformat_minor": 5
}
